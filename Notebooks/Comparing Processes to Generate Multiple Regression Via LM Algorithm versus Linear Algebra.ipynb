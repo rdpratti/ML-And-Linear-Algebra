{
 "cells": [
  {
   "cell_type": "markdown",
   "id": "8033217d",
   "metadata": {},
   "source": [
    "Comparing Results of Multiple Regression Coefficients Developed with MR Algoriths \n",
    "to Coefficients Generated with Linear Algebra.\n",
    "\n",
    "Formulas were obtained from Youtube Video https://www.youtube.com/watch?v=Bl_91Xe3D_w\n",
    "\n",
    "Langauge = R, MR Algorithm = LM\n",
    "\n",
    "Linear Algebra Formulas\n",
    "- X = matrix of predictors\n",
    "- y = response vector\n",
    "a) HAT = H = X(X^T X)^-1 X^T\n",
    "b) Beta-Hat = (X^T X)^-1 X^T y "
   ]
  },
  {
   "cell_type": "code",
   "execution_count": 2,
   "id": "4b9a1b20",
   "metadata": {},
   "outputs": [
    {
     "data": {
      "text/plain": [
       "       y               x1               x2               x3       \n",
       " Min.   :1.000   Min.   :0.0000   Min.   :0.0000   Min.   :0.000  \n",
       " 1st Qu.:1.000   1st Qu.:0.0000   1st Qu.:0.0000   1st Qu.:0.000  \n",
       " Median :2.000   Median :1.0000   Median :1.0000   Median :1.000  \n",
       " Mean   :2.008   Mean   :0.5088   Mean   :0.5028   Mean   :0.516  \n",
       " 3rd Qu.:3.000   3rd Qu.:1.0000   3rd Qu.:1.0000   3rd Qu.:1.000  \n",
       " Max.   :3.000   Max.   :1.0000   Max.   :1.0000   Max.   :1.000  \n",
       "       x4               x5               x6        \n",
       " Min.   :0.0000   Min.   :0.0000   Min.   :0.0000  \n",
       " 1st Qu.:0.0000   1st Qu.:0.0000   1st Qu.:0.0000  \n",
       " Median :0.0000   Median :0.0000   Median :0.0000  \n",
       " Mean   :0.4988   Mean   :0.4948   Mean   :0.4852  \n",
       " 3rd Qu.:1.0000   3rd Qu.:1.0000   3rd Qu.:1.0000  \n",
       " Max.   :1.0000   Max.   :1.0000   Max.   :1.0000  "
      ]
     },
     "metadata": {},
     "output_type": "display_data"
    }
   ],
   "source": [
    "# read generated dataset of 6 dummy variables with an outcome variable, y = (1,2,3)\n",
    "\n",
    "dat <- read.csv(file = 'E:/RStudio-Projects/Singh/profile/data/good-6-5000-covs.csv', header=TRUE, stringsAsFactors=TRUE)\n",
    "summary(dat)"
   ]
  },
  {
   "cell_type": "code",
   "execution_count": 3,
   "id": "3b3960be",
   "metadata": {},
   "outputs": [
    {
     "data": {
      "text/plain": [
       "\n",
       "Call:\n",
       "lm(formula = y ~ x1 + x2 + x3 + x4 + x5 + x6, data = dat)\n",
       "\n",
       "Residuals:\n",
       "     Min       1Q   Median       3Q      Max \n",
       "-1.30959 -0.77329  0.00703  0.77406  1.22671 \n",
       "\n",
       "Coefficients:\n",
       "            Estimate Std. Error t value Pr(>|t|)    \n",
       "(Intercept)  1.96340    0.02699  72.754  < 2e-16 ***\n",
       "x1           0.12225    0.02018   6.058 1.48e-09 ***\n",
       "x2           0.09251    0.02019   4.582 4.71e-06 ***\n",
       "x3           0.13144    0.02020   6.508 8.35e-11 ***\n",
       "x4          -0.08365    0.02017  -4.146 3.44e-05 ***\n",
       "x5          -0.07873    0.02017  -3.903 9.64e-05 ***\n",
       "x6          -0.10646    0.02019  -5.273 1.40e-07 ***\n",
       "---\n",
       "Signif. codes:  0 '***' 0.001 '**' 0.01 '*' 0.05 '.' 0.1 ' ' 1\n",
       "\n",
       "Residual standard error: 0.7131 on 4993 degrees of freedom\n",
       "Multiple R-squared:  0.03073,\tAdjusted R-squared:  0.02957 \n",
       "F-statistic: 26.38 on 6 and 4993 DF,  p-value: < 2.2e-16\n"
      ]
     },
     "metadata": {},
     "output_type": "display_data"
    }
   ],
   "source": [
    "##########################################################################\n",
    "# Generate MR Model\n",
    "##########################################################################\n",
    "mr1 <- lm(y ~ x1 + x2 + x3 + x4 + x5 + x6, data = dat)\n",
    "summary(mr1)"
   ]
  },
  {
   "cell_type": "code",
   "execution_count": 9,
   "id": "eef064b5",
   "metadata": {},
   "outputs": [
    {
     "data": {
      "text/html": [
       "<table class=\"dataframe\">\n",
       "<caption>A data.frame: 5 × 7</caption>\n",
       "<thead>\n",
       "\t<tr><th></th><th scope=col>x0</th><th scope=col>x1</th><th scope=col>x2</th><th scope=col>x3</th><th scope=col>x4</th><th scope=col>x5</th><th scope=col>x6</th></tr>\n",
       "\t<tr><th></th><th scope=col>&lt;dbl&gt;</th><th scope=col>&lt;int&gt;</th><th scope=col>&lt;int&gt;</th><th scope=col>&lt;int&gt;</th><th scope=col>&lt;int&gt;</th><th scope=col>&lt;int&gt;</th><th scope=col>&lt;int&gt;</th></tr>\n",
       "</thead>\n",
       "<tbody>\n",
       "\t<tr><th scope=row>1</th><td>1</td><td>0</td><td>1</td><td>1</td><td>1</td><td>0</td><td>0</td></tr>\n",
       "\t<tr><th scope=row>2</th><td>1</td><td>1</td><td>0</td><td>0</td><td>0</td><td>1</td><td>0</td></tr>\n",
       "\t<tr><th scope=row>3</th><td>1</td><td>0</td><td>0</td><td>0</td><td>0</td><td>1</td><td>0</td></tr>\n",
       "\t<tr><th scope=row>4</th><td>1</td><td>1</td><td>1</td><td>0</td><td>0</td><td>1</td><td>1</td></tr>\n",
       "\t<tr><th scope=row>5</th><td>1</td><td>1</td><td>0</td><td>0</td><td>1</td><td>1</td><td>0</td></tr>\n",
       "</tbody>\n",
       "</table>\n"
      ],
      "text/latex": [
       "A data.frame: 5 × 7\n",
       "\\begin{tabular}{r|lllllll}\n",
       "  & x0 & x1 & x2 & x3 & x4 & x5 & x6\\\\\n",
       "  & <dbl> & <int> & <int> & <int> & <int> & <int> & <int>\\\\\n",
       "\\hline\n",
       "\t1 & 1 & 0 & 1 & 1 & 1 & 0 & 0\\\\\n",
       "\t2 & 1 & 1 & 0 & 0 & 0 & 1 & 0\\\\\n",
       "\t3 & 1 & 0 & 0 & 0 & 0 & 1 & 0\\\\\n",
       "\t4 & 1 & 1 & 1 & 0 & 0 & 1 & 1\\\\\n",
       "\t5 & 1 & 1 & 0 & 0 & 1 & 1 & 0\\\\\n",
       "\\end{tabular}\n"
      ],
      "text/markdown": [
       "\n",
       "A data.frame: 5 × 7\n",
       "\n",
       "| <!--/--> | x0 &lt;dbl&gt; | x1 &lt;int&gt; | x2 &lt;int&gt; | x3 &lt;int&gt; | x4 &lt;int&gt; | x5 &lt;int&gt; | x6 &lt;int&gt; |\n",
       "|---|---|---|---|---|---|---|---|\n",
       "| 1 | 1 | 0 | 1 | 1 | 1 | 0 | 0 |\n",
       "| 2 | 1 | 1 | 0 | 0 | 0 | 1 | 0 |\n",
       "| 3 | 1 | 0 | 0 | 0 | 0 | 1 | 0 |\n",
       "| 4 | 1 | 1 | 1 | 0 | 0 | 1 | 1 |\n",
       "| 5 | 1 | 1 | 0 | 0 | 1 | 1 | 0 |\n",
       "\n"
      ],
      "text/plain": [
       "  x0 x1 x2 x3 x4 x5 x6\n",
       "1 1  0  1  1  1  0  0 \n",
       "2 1  1  0  0  0  1  0 \n",
       "3 1  0  0  0  0  1  0 \n",
       "4 1  1  1  0  0  1  1 \n",
       "5 1  1  0  0  1  1  0 "
      ]
     },
     "metadata": {},
     "output_type": "display_data"
    }
   ],
   "source": [
    "# Build X matrix and y vector from input\n",
    "# Add column of ones in X to represent B0 (y-intercept estimate)\n",
    "\n",
    "y <- dat[,c('y')]\n",
    "X <- dat[,c('x1','x2','x3','x4','x5','x6')]\n",
    "x0 <- seq(1, 1, length.out=nrow(X))\n",
    "X <- cbind(x0, X)\n",
    "X[1:5,]\n",
    "X.matrix <- data.matrix(X)"
   ]
  },
  {
   "cell_type": "code",
   "execution_count": 5,
   "id": "95b35b65",
   "metadata": {},
   "outputs": [
    {
     "data": {
      "text/html": [
       "TRUE"
      ],
      "text/latex": [
       "TRUE"
      ],
      "text/markdown": [
       "TRUE"
      ],
      "text/plain": [
       "[1] TRUE"
      ]
     },
     "metadata": {},
     "output_type": "display_data"
    },
    {
     "data": {
      "text/html": [
       "<style>\n",
       ".list-inline {list-style: none; margin:0; padding: 0}\n",
       ".list-inline>li {display: inline-block}\n",
       ".list-inline>li:not(:last-child)::after {content: \"\\00b7\"; padding: 0 .5ex}\n",
       "</style>\n",
       "<ol class=list-inline><li>5000</li><li>7</li></ol>\n"
      ],
      "text/latex": [
       "\\begin{enumerate*}\n",
       "\\item 5000\n",
       "\\item 7\n",
       "\\end{enumerate*}\n"
      ],
      "text/markdown": [
       "1. 5000\n",
       "2. 7\n",
       "\n",
       "\n"
      ],
      "text/plain": [
       "[1] 5000    7"
      ]
     },
     "metadata": {},
     "output_type": "display_data"
    }
   ],
   "source": [
    "is.vector(y)\n",
    "dim(X.matrix)"
   ]
  },
  {
   "cell_type": "code",
   "execution_count": 22,
   "id": "a047da7d",
   "metadata": {},
   "outputs": [
    {
     "data": {
      "text/html": [
       "<style>\n",
       ".list-inline {list-style: none; margin:0; padding: 0}\n",
       ".list-inline>li {display: inline-block}\n",
       ".list-inline>li:not(:last-child)::after {content: \"\\00b7\"; padding: 0 .5ex}\n",
       "</style>\n",
       "<ol class=list-inline><li>1.96339604176242</li><li>0.122248241265192</li><li>0.0925056379901407</li><li>0.131437590315836</li><li>-0.083647529612121</li><li>-0.0787267238220548</li></ol>\n"
      ],
      "text/latex": [
       "\\begin{enumerate*}\n",
       "\\item 1.96339604176242\n",
       "\\item 0.122248241265192\n",
       "\\item 0.0925056379901407\n",
       "\\item 0.131437590315836\n",
       "\\item -0.083647529612121\n",
       "\\item -0.0787267238220548\n",
       "\\end{enumerate*}\n"
      ],
      "text/markdown": [
       "1. 1.96339604176242\n",
       "2. 0.122248241265192\n",
       "3. 0.0925056379901407\n",
       "4. 0.131437590315836\n",
       "5. -0.083647529612121\n",
       "6. -0.0787267238220548\n",
       "\n",
       "\n"
      ],
      "text/plain": [
       "[1]  1.96339604  0.12224824  0.09250564  0.13143759 -0.08364753 -0.07872672"
      ]
     },
     "metadata": {},
     "output_type": "display_data"
    }
   ],
   "source": [
    "# Generate Betas using Linear Algebra\n",
    "# Beta-Hat = (X^T X)^-1 X^T y\n",
    "# Linear Algebra results match the results from the lm function call\n",
    "\n",
    "X.transpose <- t(X.matrix) \n",
    "step.1 <- X.transpose %*% X.matrix\n",
    "# step.1[1:5,]\n",
    "step.2.invert <- solve(step.1) \n",
    "step.3 <- step.2.invert %*% X.transpose\n",
    "beta.hat <- step.3 %*% y\n",
    "beta.hat[1:6]"
   ]
  },
  {
   "cell_type": "code",
   "execution_count": 24,
   "id": "f182a09f",
   "metadata": {},
   "outputs": [
    {
     "data": {
      "text/html": [
       "<style>\n",
       ".list-inline {list-style: none; margin:0; padding: 0}\n",
       ".list-inline>li {display: inline-block}\n",
       ".list-inline>li:not(:last-child)::after {content: \"\\00b7\"; padding: 0 .5ex}\n",
       "</style>\n",
       "<ol class=list-inline><li>5000</li><li>7</li></ol>\n"
      ],
      "text/latex": [
       "\\begin{enumerate*}\n",
       "\\item 5000\n",
       "\\item 7\n",
       "\\end{enumerate*}\n"
      ],
      "text/markdown": [
       "1. 5000\n",
       "2. 7\n",
       "\n",
       "\n"
      ],
      "text/plain": [
       "[1] 5000    7"
      ]
     },
     "metadata": {},
     "output_type": "display_data"
    },
    {
     "data": {
      "text/html": [
       "<style>\n",
       ".list-inline {list-style: none; margin:0; padding: 0}\n",
       ".list-inline>li {display: inline-block}\n",
       ".list-inline>li:not(:last-child)::after {content: \"\\00b7\"; padding: 0 .5ex}\n",
       "</style>\n",
       "<ol class=list-inline><li>7</li><li>5000</li></ol>\n"
      ],
      "text/latex": [
       "\\begin{enumerate*}\n",
       "\\item 7\n",
       "\\item 5000\n",
       "\\end{enumerate*}\n"
      ],
      "text/markdown": [
       "1. 7\n",
       "2. 5000\n",
       "\n",
       "\n"
      ],
      "text/plain": [
       "[1]    7 5000"
      ]
     },
     "metadata": {},
     "output_type": "display_data"
    },
    {
     "data": {
      "text/html": [
       "5000"
      ],
      "text/latex": [
       "5000"
      ],
      "text/markdown": [
       "5000"
      ],
      "text/plain": [
       "[1] 5000"
      ]
     },
     "metadata": {},
     "output_type": "display_data"
    }
   ],
   "source": [
    "# Find dimensions of critical matrices and vectors\n",
    "dim(X.matrix)\n",
    "dim(step.3)\n",
    "length(y)"
   ]
  },
  {
   "cell_type": "code",
   "execution_count": 30,
   "id": "7cf98643",
   "metadata": {},
   "outputs": [
    {
     "data": {
      "text/html": [
       "<style>\n",
       ".list-inline {list-style: none; margin:0; padding: 0}\n",
       ".list-inline>li {display: inline-block}\n",
       ".list-inline>li:not(:last-child)::after {content: \"\\00b7\"; padding: 0 .5ex}\n",
       "</style>\n",
       "<ol class=list-inline><li>5000</li><li>5000</li></ol>\n"
      ],
      "text/latex": [
       "\\begin{enumerate*}\n",
       "\\item 5000\n",
       "\\item 5000\n",
       "\\end{enumerate*}\n"
      ],
      "text/markdown": [
       "1. 5000\n",
       "2. 5000\n",
       "\n",
       "\n"
      ],
      "text/plain": [
       "[1] 5000 5000"
      ]
     },
     "metadata": {},
     "output_type": "display_data"
    },
    {
     "data": {
      "text/html": [
       "<style>\n",
       ".list-inline {list-style: none; margin:0; padding: 0}\n",
       ".list-inline>li {display: inline-block}\n",
       ".list-inline>li:not(:last-child)::after {content: \"\\00b7\"; padding: 0 .5ex}\n",
       "</style>\n",
       "<ol class=list-inline><li>5000</li><li>5000</li></ol>\n"
      ],
      "text/latex": [
       "\\begin{enumerate*}\n",
       "\\item 5000\n",
       "\\item 5000\n",
       "\\end{enumerate*}\n"
      ],
      "text/markdown": [
       "1. 5000\n",
       "2. 5000\n",
       "\n",
       "\n"
      ],
      "text/plain": [
       "[1] 5000 5000"
      ]
     },
     "metadata": {},
     "output_type": "display_data"
    }
   ],
   "source": [
    "# Generate Hat matrix\n",
    "H <- X.matrix %*% step.2.invert %*% X.transpose\n",
    "dim(H)\n",
    "xrows <- nrow(X.matrix)\n",
    "J <- matrix(1/xrows, xrows, xrows)\n",
    "dim(J)"
   ]
  },
  {
   "cell_type": "code",
   "execution_count": null,
   "id": "782b0af5",
   "metadata": {},
   "outputs": [],
   "source": [
    "# Data Generated by MR Algorithm\n",
    "# Residual standard error: 0.7131 on 4993 degrees of freedom\n",
    "# Multiple R-squared:  0.03073,\tAdjusted R-squared:  0.02957\n",
    "# Next Sections Generfate it from data and linear algebra"
   ]
  },
  {
   "cell_type": "code",
   "execution_count": 28,
   "id": "a55f24cd",
   "metadata": {},
   "outputs": [
    {
     "data": {
      "text/html": [
       "<table class=\"dataframe\">\n",
       "<caption>A matrix: 1 × 1 of type dbl</caption>\n",
       "<tbody>\n",
       "\t<tr><td>2539.206</td></tr>\n",
       "</tbody>\n",
       "</table>\n"
      ],
      "text/latex": [
       "A matrix: 1 × 1 of type dbl\n",
       "\\begin{tabular}{l}\n",
       "\t 2539.206\\\\\n",
       "\\end{tabular}\n"
      ],
      "text/markdown": [
       "\n",
       "A matrix: 1 × 1 of type dbl\n",
       "\n",
       "| 2539.206 |\n",
       "\n"
      ],
      "text/plain": [
       "     [,1]    \n",
       "[1,] 2539.206"
      ]
     },
     "metadata": {},
     "output_type": "display_data"
    }
   ],
   "source": [
    "# Calculate Sum of Square Error Residuals\n",
    "y.matrix <- data.matrix(y)\n",
    "y.transpose <- t(y.matrix)\n",
    "I <- diag(5000)\n",
    "IMH <- I - H\n",
    "SSE.Res <- y.transpose %*% IMH %*% y.matrix\n",
    "SSE.Res"
   ]
  },
  {
   "cell_type": "code",
   "execution_count": 31,
   "id": "40ad6169",
   "metadata": {},
   "outputs": [
    {
     "data": {
      "text/html": [
       "<table class=\"dataframe\">\n",
       "<caption>A matrix: 1 × 1 of type dbl</caption>\n",
       "<tbody>\n",
       "\t<tr><td>80.50556</td></tr>\n",
       "</tbody>\n",
       "</table>\n"
      ],
      "text/latex": [
       "A matrix: 1 × 1 of type dbl\n",
       "\\begin{tabular}{l}\n",
       "\t 80.50556\\\\\n",
       "\\end{tabular}\n"
      ],
      "text/markdown": [
       "\n",
       "A matrix: 1 × 1 of type dbl\n",
       "\n",
       "| 80.50556 |\n",
       "\n"
      ],
      "text/plain": [
       "     [,1]    \n",
       "[1,] 80.50556"
      ]
     },
     "metadata": {},
     "output_type": "display_data"
    }
   ],
   "source": [
    "#Generate Sum of Sqaures Due to Regression\n",
    "HMJ <- H - J\n",
    "SSE.Reg <- y.transpose %*% HMJ %*% y.matrix\n",
    "SSE.Reg"
   ]
  },
  {
   "cell_type": "code",
   "execution_count": 33,
   "id": "72749b35",
   "metadata": {},
   "outputs": [
    {
     "data": {
      "text/html": [
       "<table class=\"dataframe\">\n",
       "<caption>A matrix: 1 × 1 of type dbl</caption>\n",
       "<tbody>\n",
       "\t<tr><td>0.0307307</td></tr>\n",
       "</tbody>\n",
       "</table>\n"
      ],
      "text/latex": [
       "A matrix: 1 × 1 of type dbl\n",
       "\\begin{tabular}{l}\n",
       "\t 0.0307307\\\\\n",
       "\\end{tabular}\n"
      ],
      "text/markdown": [
       "\n",
       "A matrix: 1 × 1 of type dbl\n",
       "\n",
       "| 0.0307307 |\n",
       "\n"
      ],
      "text/plain": [
       "     [,1]     \n",
       "[1,] 0.0307307"
      ]
     },
     "metadata": {},
     "output_type": "display_data"
    }
   ],
   "source": [
    "# Generate Sum of Squares Total\n",
    "SST <- SSE.Reg + SSE.Res\n",
    "R.squared <- SSE.Reg/SST \n",
    "R.squared"
   ]
  },
  {
   "cell_type": "code",
   "execution_count": 40,
   "id": "80bba1f3",
   "metadata": {},
   "outputs": [
    {
     "name": "stdout",
     "output_type": "stream",
     "text": [
      "[1] 4993\n"
     ]
    },
    {
     "data": {
      "text/html": [
       "<table class=\"dataframe\">\n",
       "<caption>A matrix: 1 × 1 of type dbl</caption>\n",
       "<tbody>\n",
       "\t<tr><td>0.7131291</td></tr>\n",
       "</tbody>\n",
       "</table>\n"
      ],
      "text/latex": [
       "A matrix: 1 × 1 of type dbl\n",
       "\\begin{tabular}{l}\n",
       "\t 0.7131291\\\\\n",
       "\\end{tabular}\n"
      ],
      "text/markdown": [
       "\n",
       "A matrix: 1 × 1 of type dbl\n",
       "\n",
       "| 0.7131291 |\n",
       "\n"
      ],
      "text/plain": [
       "     [,1]     \n",
       "[1,] 0.7131291"
      ]
     },
     "metadata": {},
     "output_type": "display_data"
    }
   ],
   "source": [
    "# Generate Residual Standard Error from Linear Algebra\n",
    "# Residual standard error = √SSresiduals / dfresiduals\n",
    "#   where:\n",
    "#     SSresiduals: The residual sum of squares.\n",
    "#     dfresiduals: The residual degrees of freedom, calculated as n – k – 1 \n",
    "#        where n = total observations and k = total model parameters.\n",
    "# \n",
    "xcols <- ncol(X.matrix[,-1])  # exclude rows of 1s, which is not a covariate.\n",
    "df <- xrows - xcols -1\n",
    "print(df)\n",
    "Standard.error <- sqrt(SSE.Res/df)\n",
    "Standard.error"
   ]
  },
  {
   "cell_type": "code",
   "execution_count": null,
   "id": "57fcf602",
   "metadata": {},
   "outputs": [],
   "source": []
  }
 ],
 "metadata": {
  "kernelspec": {
   "display_name": "R [conda env:ordinal]",
   "language": "R",
   "name": "conda-env-ordinal-r"
  },
  "language_info": {
   "codemirror_mode": "r",
   "file_extension": ".r",
   "mimetype": "text/x-r-source",
   "name": "R",
   "pygments_lexer": "r",
   "version": "4.1.3"
  }
 },
 "nbformat": 4,
 "nbformat_minor": 5
}
