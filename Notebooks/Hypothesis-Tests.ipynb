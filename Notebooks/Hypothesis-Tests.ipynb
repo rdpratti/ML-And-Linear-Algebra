{
 "cells": [
  {
   "cell_type": "code",
   "execution_count": 68,
   "id": "0f995202",
   "metadata": {},
   "outputs": [
    {
     "data": {
      "text/html": [
       "<table class=\"dataframe\">\n",
       "<caption>A table: 3 × 6 of type dbl</caption>\n",
       "<thead>\n",
       "\t<tr><th></th><th scope=col>60</th><th scope=col>70</th><th scope=col>80</th><th scope=col>90</th><th scope=col>100</th><th scope=col>Sum</th></tr>\n",
       "</thead>\n",
       "<tbody>\n",
       "\t<tr><th scope=row>F</th><td>3</td><td> 6</td><td>5</td><td>2</td><td>4</td><td>20</td></tr>\n",
       "\t<tr><th scope=row>M</th><td>3</td><td> 7</td><td>2</td><td>5</td><td>3</td><td>20</td></tr>\n",
       "\t<tr><th scope=row>Sum</th><td>6</td><td>13</td><td>7</td><td>7</td><td>7</td><td>40</td></tr>\n",
       "</tbody>\n",
       "</table>\n"
      ],
      "text/latex": [
       "A table: 3 × 6 of type dbl\n",
       "\\begin{tabular}{r|llllll}\n",
       "  & 60 & 70 & 80 & 90 & 100 & Sum\\\\\n",
       "\\hline\n",
       "\tF & 3 &  6 & 5 & 2 & 4 & 20\\\\\n",
       "\tM & 3 &  7 & 2 & 5 & 3 & 20\\\\\n",
       "\tSum & 6 & 13 & 7 & 7 & 7 & 40\\\\\n",
       "\\end{tabular}\n"
      ],
      "text/markdown": [
       "\n",
       "A table: 3 × 6 of type dbl\n",
       "\n",
       "| <!--/--> | 60 | 70 | 80 | 90 | 100 | Sum |\n",
       "|---|---|---|---|---|---|---|\n",
       "| F | 3 |  6 | 5 | 2 | 4 | 20 |\n",
       "| M | 3 |  7 | 2 | 5 | 3 | 20 |\n",
       "| Sum | 6 | 13 | 7 | 7 | 7 | 40 |\n",
       "\n"
      ],
      "text/plain": [
       "     \n",
       "      60 70 80 90 100 Sum\n",
       "  F   3   6 5  2  4   20 \n",
       "  M   3   7 2  5  3   20 \n",
       "  Sum 6  13 7  7  7   40 "
      ]
     },
     "metadata": {},
     "output_type": "display_data"
    },
    {
     "data": {
      "text/html": [
       "<table class=\"dataframe\">\n",
       "<caption>A table: 3 × 6 of type dbl</caption>\n",
       "<thead>\n",
       "\t<tr><th></th><th scope=col>60</th><th scope=col>70</th><th scope=col>80</th><th scope=col>90</th><th scope=col>100</th><th scope=col>Sum</th></tr>\n",
       "</thead>\n",
       "<tbody>\n",
       "\t<tr><th scope=row>F</th><td> 7.5</td><td>15.0</td><td>12.5</td><td> 5.0</td><td>10.0</td><td> 50</td></tr>\n",
       "\t<tr><th scope=row>M</th><td> 7.5</td><td>17.5</td><td> 5.0</td><td>12.5</td><td> 7.5</td><td> 50</td></tr>\n",
       "\t<tr><th scope=row>Sum</th><td>15.0</td><td>32.5</td><td>17.5</td><td>17.5</td><td>17.5</td><td>100</td></tr>\n",
       "</tbody>\n",
       "</table>\n"
      ],
      "text/latex": [
       "A table: 3 × 6 of type dbl\n",
       "\\begin{tabular}{r|llllll}\n",
       "  & 60 & 70 & 80 & 90 & 100 & Sum\\\\\n",
       "\\hline\n",
       "\tF &  7.5 & 15.0 & 12.5 &  5.0 & 10.0 &  50\\\\\n",
       "\tM &  7.5 & 17.5 &  5.0 & 12.5 &  7.5 &  50\\\\\n",
       "\tSum & 15.0 & 32.5 & 17.5 & 17.5 & 17.5 & 100\\\\\n",
       "\\end{tabular}\n"
      ],
      "text/markdown": [
       "\n",
       "A table: 3 × 6 of type dbl\n",
       "\n",
       "| <!--/--> | 60 | 70 | 80 | 90 | 100 | Sum |\n",
       "|---|---|---|---|---|---|---|\n",
       "| F |  7.5 | 15.0 | 12.5 |  5.0 | 10.0 |  50 |\n",
       "| M |  7.5 | 17.5 |  5.0 | 12.5 |  7.5 |  50 |\n",
       "| Sum | 15.0 | 32.5 | 17.5 | 17.5 | 17.5 | 100 |\n",
       "\n"
      ],
      "text/plain": [
       "     \n",
       "      60   70   80   90   100  Sum\n",
       "  F    7.5 15.0 12.5  5.0 10.0  50\n",
       "  M    7.5 17.5  5.0 12.5  7.5  50\n",
       "  Sum 15.0 32.5 17.5 17.5 17.5 100"
      ]
     },
     "metadata": {},
     "output_type": "display_data"
    },
    {
     "data": {
      "image/png": "[encoded data removed]",
      "text/plain": [
       "plot without title"
      ]
     },
     "metadata": {
      "image/png": {
       "height": 420,
       "width": 420
      }
     },
     "output_type": "display_data"
    }
   ],
   "source": [
    "samp1 <- sample(x = 60:100, size = 40, replace = TRUE)\n",
    "gsamp <- as.factor(sample(x = c('M','F'),prob = c(.55,.45),\n",
    "       size = 40, \n",
    "       replace = TRUE))\n",
    "#gsampf <- as.factor(gsamp) \n",
    "df1 <- data.frame(gender=gsamp, score=samp1)\n",
    "table1 <- table(df1$gender, round(df1$score,digits=-1))\n",
    "addmargins(table1)\n",
    "#addmargins(prop.table(table1,1))\n",
    "#addmargins(round(prop.table(table1)*100,2))\n",
    "addmargins(round(prop.table(table1)*100,2))\n",
    "plot(df1)"
   ]
  },
  {
   "cell_type": "code",
   "execution_count": 73,
   "id": "9a663627",
   "metadata": {},
   "outputs": [
    {
     "data": {
      "text/plain": [
       "\n",
       "\tTwo Sample t-test\n",
       "\n",
       "data:  score by gender\n",
       "t = 0.2221, df = 38, p-value = 0.8254\n",
       "alternative hypothesis: true difference in means between group F and group M is not equal to 0\n",
       "95 percent confidence interval:\n",
       " -7.3033  9.1033\n",
       "sample estimates:\n",
       "mean in group F mean in group M \n",
       "           79.4            78.5 \n"
      ]
     },
     "metadata": {},
     "output_type": "display_data"
    }
   ],
   "source": [
    "t.test(score ~ gender, data = df1, var.equal = TRUE)"
   ]
  },
  {
   "cell_type": "code",
   "execution_count": 74,
   "id": "047cac69",
   "metadata": {},
   "outputs": [
    {
     "data": {
      "text/plain": [
       "\n",
       "\tF test to compare two variances\n",
       "\n",
       "data:  score by gender\n",
       "F = 0.96777, num df = 19, denom df = 19, p-value = 0.9438\n",
       "alternative hypothesis: true ratio of variances is not equal to 1\n",
       "95 percent confidence interval:\n",
       " 0.3830553 2.4450245\n",
       "sample estimates:\n",
       "ratio of variances \n",
       "         0.9677704 \n"
      ]
     },
     "metadata": {},
     "output_type": "display_data"
    }
   ],
   "source": [
    "var.test(score ~ gender, df1, alternative = \"two.sided\")"
   ]
  },
  {
   "cell_type": "code",
   "execution_count": 72,
   "id": "65aa2c7c",
   "metadata": {},
   "outputs": [
    {
     "data": {
      "text/html": [
       "<table class=\"dataframe\">\n",
       "<caption>A data.frame: 50 × 4</caption>\n",
       "<thead>\n",
       "\t<tr><th></th><th scope=col>successes</th><th scope=col>proportion</th><th scope=col>chi</th><th scope=col>p_value</th></tr>\n",
       "\t<tr><th></th><th scope=col>&lt;dbl&gt;</th><th scope=col>&lt;dbl&gt;</th><th scope=col>&lt;dbl&gt;</th><th scope=col>&lt;dbl&gt;</th></tr>\n",
       "</thead>\n",
       "<tbody>\n",
       "\t<tr><th scope=row>1</th><td>20</td><td>0.500</td><td>0.4040404</td><td>0.52500997</td></tr>\n",
       "\t<tr><th scope=row>2</th><td>19</td><td>0.475</td><td>0.1010101</td><td>0.75062082</td></tr>\n",
       "\t<tr><th scope=row>3</th><td>18</td><td>0.450</td><td>0.0000000</td><td>1.00000000</td></tr>\n",
       "\t<tr><th scope=row>4</th><td>16</td><td>0.400</td><td>0.4040404</td><td>0.52500997</td></tr>\n",
       "\t<tr><th scope=row>5</th><td>14</td><td>0.350</td><td>1.6161616</td><td>0.20362783</td></tr>\n",
       "\t<tr><th scope=row>6</th><td>14</td><td>0.350</td><td>1.6161616</td><td>0.20362783</td></tr>\n",
       "\t<tr><th scope=row>7</th><td>21</td><td>0.525</td><td>0.9090909</td><td>0.34035574</td></tr>\n",
       "\t<tr><th scope=row>8</th><td>16</td><td>0.400</td><td>0.4040404</td><td>0.52500997</td></tr>\n",
       "\t<tr><th scope=row>9</th><td>16</td><td>0.400</td><td>0.4040404</td><td>0.52500997</td></tr>\n",
       "\t<tr><th scope=row>10</th><td>17</td><td>0.425</td><td>0.1010101</td><td>0.75062082</td></tr>\n",
       "\t<tr><th scope=row>11</th><td>21</td><td>0.525</td><td>0.9090909</td><td>0.34035574</td></tr>\n",
       "\t<tr><th scope=row>12</th><td>20</td><td>0.500</td><td>0.4040404</td><td>0.52500997</td></tr>\n",
       "\t<tr><th scope=row>13</th><td>18</td><td>0.450</td><td>0.0000000</td><td>1.00000000</td></tr>\n",
       "\t<tr><th scope=row>14</th><td>21</td><td>0.525</td><td>0.9090909</td><td>0.34035574</td></tr>\n",
       "\t<tr><th scope=row>15</th><td>14</td><td>0.350</td><td>1.6161616</td><td>0.20362783</td></tr>\n",
       "\t<tr><th scope=row>16</th><td>19</td><td>0.475</td><td>0.1010101</td><td>0.75062082</td></tr>\n",
       "\t<tr><th scope=row>17</th><td>21</td><td>0.525</td><td>0.9090909</td><td>0.34035574</td></tr>\n",
       "\t<tr><th scope=row>18</th><td>17</td><td>0.425</td><td>0.1010101</td><td>0.75062082</td></tr>\n",
       "\t<tr><th scope=row>19</th><td>20</td><td>0.500</td><td>0.4040404</td><td>0.52500997</td></tr>\n",
       "\t<tr><th scope=row>20</th><td>20</td><td>0.500</td><td>0.4040404</td><td>0.52500997</td></tr>\n",
       "\t<tr><th scope=row>21</th><td>21</td><td>0.525</td><td>0.9090909</td><td>0.34035574</td></tr>\n",
       "\t<tr><th scope=row>22</th><td>20</td><td>0.500</td><td>0.4040404</td><td>0.52500997</td></tr>\n",
       "\t<tr><th scope=row>23</th><td>12</td><td>0.300</td><td>3.6363636</td><td>0.05653028</td></tr>\n",
       "\t<tr><th scope=row>24</th><td>21</td><td>0.525</td><td>0.9090909</td><td>0.34035574</td></tr>\n",
       "\t<tr><th scope=row>25</th><td>18</td><td>0.450</td><td>0.0000000</td><td>1.00000000</td></tr>\n",
       "\t<tr><th scope=row>26</th><td>21</td><td>0.525</td><td>0.9090909</td><td>0.34035574</td></tr>\n",
       "\t<tr><th scope=row>27</th><td>19</td><td>0.475</td><td>0.1010101</td><td>0.75062082</td></tr>\n",
       "\t<tr><th scope=row>28</th><td>20</td><td>0.500</td><td>0.4040404</td><td>0.52500997</td></tr>\n",
       "\t<tr><th scope=row>29</th><td>14</td><td>0.350</td><td>1.6161616</td><td>0.20362783</td></tr>\n",
       "\t<tr><th scope=row>30</th><td>19</td><td>0.475</td><td>0.1010101</td><td>0.75062082</td></tr>\n",
       "\t<tr><th scope=row>31</th><td>18</td><td>0.450</td><td>0.0000000</td><td>1.00000000</td></tr>\n",
       "\t<tr><th scope=row>32</th><td>16</td><td>0.400</td><td>0.4040404</td><td>0.52500997</td></tr>\n",
       "\t<tr><th scope=row>33</th><td>15</td><td>0.375</td><td>0.9090909</td><td>0.34035574</td></tr>\n",
       "\t<tr><th scope=row>34</th><td>20</td><td>0.500</td><td>0.4040404</td><td>0.52500997</td></tr>\n",
       "\t<tr><th scope=row>35</th><td>17</td><td>0.425</td><td>0.1010101</td><td>0.75062082</td></tr>\n",
       "\t<tr><th scope=row>36</th><td>19</td><td>0.475</td><td>0.1010101</td><td>0.75062082</td></tr>\n",
       "\t<tr><th scope=row>37</th><td>18</td><td>0.450</td><td>0.0000000</td><td>1.00000000</td></tr>\n",
       "\t<tr><th scope=row>38</th><td>17</td><td>0.425</td><td>0.1010101</td><td>0.75062082</td></tr>\n",
       "\t<tr><th scope=row>39</th><td>19</td><td>0.475</td><td>0.1010101</td><td>0.75062082</td></tr>\n",
       "\t<tr><th scope=row>40</th><td>19</td><td>0.475</td><td>0.1010101</td><td>0.75062082</td></tr>\n",
       "\t<tr><th scope=row>41</th><td>14</td><td>0.350</td><td>1.6161616</td><td>0.20362783</td></tr>\n",
       "\t<tr><th scope=row>42</th><td>18</td><td>0.450</td><td>0.0000000</td><td>1.00000000</td></tr>\n",
       "\t<tr><th scope=row>43</th><td>19</td><td>0.475</td><td>0.1010101</td><td>0.75062082</td></tr>\n",
       "\t<tr><th scope=row>44</th><td>18</td><td>0.450</td><td>0.0000000</td><td>1.00000000</td></tr>\n",
       "\t<tr><th scope=row>45</th><td>20</td><td>0.500</td><td>0.4040404</td><td>0.52500997</td></tr>\n",
       "\t<tr><th scope=row>46</th><td>18</td><td>0.450</td><td>0.0000000</td><td>1.00000000</td></tr>\n",
       "\t<tr><th scope=row>47</th><td>17</td><td>0.425</td><td>0.1010101</td><td>0.75062082</td></tr>\n",
       "\t<tr><th scope=row>48</th><td>21</td><td>0.525</td><td>0.9090909</td><td>0.34035574</td></tr>\n",
       "\t<tr><th scope=row>49</th><td>20</td><td>0.500</td><td>0.4040404</td><td>0.52500997</td></tr>\n",
       "\t<tr><th scope=row>50</th><td>15</td><td>0.375</td><td>0.9090909</td><td>0.34035574</td></tr>\n",
       "</tbody>\n",
       "</table>\n"
      ],
      "text/latex": [
       "A data.frame: 50 × 4\n",
       "\\begin{tabular}{r|llll}\n",
       "  & successes & proportion & chi & p\\_value\\\\\n",
       "  & <dbl> & <dbl> & <dbl> & <dbl>\\\\\n",
       "\\hline\n",
       "\t1 & 20 & 0.500 & 0.4040404 & 0.52500997\\\\\n",
       "\t2 & 19 & 0.475 & 0.1010101 & 0.75062082\\\\\n",
       "\t3 & 18 & 0.450 & 0.0000000 & 1.00000000\\\\\n",
       "\t4 & 16 & 0.400 & 0.4040404 & 0.52500997\\\\\n",
       "\t5 & 14 & 0.350 & 1.6161616 & 0.20362783\\\\\n",
       "\t6 & 14 & 0.350 & 1.6161616 & 0.20362783\\\\\n",
       "\t7 & 21 & 0.525 & 0.9090909 & 0.34035574\\\\\n",
       "\t8 & 16 & 0.400 & 0.4040404 & 0.52500997\\\\\n",
       "\t9 & 16 & 0.400 & 0.4040404 & 0.52500997\\\\\n",
       "\t10 & 17 & 0.425 & 0.1010101 & 0.75062082\\\\\n",
       "\t11 & 21 & 0.525 & 0.9090909 & 0.34035574\\\\\n",
       "\t12 & 20 & 0.500 & 0.4040404 & 0.52500997\\\\\n",
       "\t13 & 18 & 0.450 & 0.0000000 & 1.00000000\\\\\n",
       "\t14 & 21 & 0.525 & 0.9090909 & 0.34035574\\\\\n",
       "\t15 & 14 & 0.350 & 1.6161616 & 0.20362783\\\\\n",
       "\t16 & 19 & 0.475 & 0.1010101 & 0.75062082\\\\\n",
       "\t17 & 21 & 0.525 & 0.9090909 & 0.34035574\\\\\n",
       "\t18 & 17 & 0.425 & 0.1010101 & 0.75062082\\\\\n",
       "\t19 & 20 & 0.500 & 0.4040404 & 0.52500997\\\\\n",
       "\t20 & 20 & 0.500 & 0.4040404 & 0.52500997\\\\\n",
       "\t21 & 21 & 0.525 & 0.9090909 & 0.34035574\\\\\n",
       "\t22 & 20 & 0.500 & 0.4040404 & 0.52500997\\\\\n",
       "\t23 & 12 & 0.300 & 3.6363636 & 0.05653028\\\\\n",
       "\t24 & 21 & 0.525 & 0.9090909 & 0.34035574\\\\\n",
       "\t25 & 18 & 0.450 & 0.0000000 & 1.00000000\\\\\n",
       "\t26 & 21 & 0.525 & 0.9090909 & 0.34035574\\\\\n",
       "\t27 & 19 & 0.475 & 0.1010101 & 0.75062082\\\\\n",
       "\t28 & 20 & 0.500 & 0.4040404 & 0.52500997\\\\\n",
       "\t29 & 14 & 0.350 & 1.6161616 & 0.20362783\\\\\n",
       "\t30 & 19 & 0.475 & 0.1010101 & 0.75062082\\\\\n",
       "\t31 & 18 & 0.450 & 0.0000000 & 1.00000000\\\\\n",
       "\t32 & 16 & 0.400 & 0.4040404 & 0.52500997\\\\\n",
       "\t33 & 15 & 0.375 & 0.9090909 & 0.34035574\\\\\n",
       "\t34 & 20 & 0.500 & 0.4040404 & 0.52500997\\\\\n",
       "\t35 & 17 & 0.425 & 0.1010101 & 0.75062082\\\\\n",
       "\t36 & 19 & 0.475 & 0.1010101 & 0.75062082\\\\\n",
       "\t37 & 18 & 0.450 & 0.0000000 & 1.00000000\\\\\n",
       "\t38 & 17 & 0.425 & 0.1010101 & 0.75062082\\\\\n",
       "\t39 & 19 & 0.475 & 0.1010101 & 0.75062082\\\\\n",
       "\t40 & 19 & 0.475 & 0.1010101 & 0.75062082\\\\\n",
       "\t41 & 14 & 0.350 & 1.6161616 & 0.20362783\\\\\n",
       "\t42 & 18 & 0.450 & 0.0000000 & 1.00000000\\\\\n",
       "\t43 & 19 & 0.475 & 0.1010101 & 0.75062082\\\\\n",
       "\t44 & 18 & 0.450 & 0.0000000 & 1.00000000\\\\\n",
       "\t45 & 20 & 0.500 & 0.4040404 & 0.52500997\\\\\n",
       "\t46 & 18 & 0.450 & 0.0000000 & 1.00000000\\\\\n",
       "\t47 & 17 & 0.425 & 0.1010101 & 0.75062082\\\\\n",
       "\t48 & 21 & 0.525 & 0.9090909 & 0.34035574\\\\\n",
       "\t49 & 20 & 0.500 & 0.4040404 & 0.52500997\\\\\n",
       "\t50 & 15 & 0.375 & 0.9090909 & 0.34035574\\\\\n",
       "\\end{tabular}\n"
      ],
      "text/markdown": [
       "\n",
       "A data.frame: 50 × 4\n",
       "\n",
       "| <!--/--> | successes &lt;dbl&gt; | proportion &lt;dbl&gt; | chi &lt;dbl&gt; | p_value &lt;dbl&gt; |\n",
       "|---|---|---|---|---|\n",
       "| 1 | 20 | 0.500 | 0.4040404 | 0.52500997 |\n",
       "| 2 | 19 | 0.475 | 0.1010101 | 0.75062082 |\n",
       "| 3 | 18 | 0.450 | 0.0000000 | 1.00000000 |\n",
       "| 4 | 16 | 0.400 | 0.4040404 | 0.52500997 |\n",
       "| 5 | 14 | 0.350 | 1.6161616 | 0.20362783 |\n",
       "| 6 | 14 | 0.350 | 1.6161616 | 0.20362783 |\n",
       "| 7 | 21 | 0.525 | 0.9090909 | 0.34035574 |\n",
       "| 8 | 16 | 0.400 | 0.4040404 | 0.52500997 |\n",
       "| 9 | 16 | 0.400 | 0.4040404 | 0.52500997 |\n",
       "| 10 | 17 | 0.425 | 0.1010101 | 0.75062082 |\n",
       "| 11 | 21 | 0.525 | 0.9090909 | 0.34035574 |\n",
       "| 12 | 20 | 0.500 | 0.4040404 | 0.52500997 |\n",
       "| 13 | 18 | 0.450 | 0.0000000 | 1.00000000 |\n",
       "| 14 | 21 | 0.525 | 0.9090909 | 0.34035574 |\n",
       "| 15 | 14 | 0.350 | 1.6161616 | 0.20362783 |\n",
       "| 16 | 19 | 0.475 | 0.1010101 | 0.75062082 |\n",
       "| 17 | 21 | 0.525 | 0.9090909 | 0.34035574 |\n",
       "| 18 | 17 | 0.425 | 0.1010101 | 0.75062082 |\n",
       "| 19 | 20 | 0.500 | 0.4040404 | 0.52500997 |\n",
       "| 20 | 20 | 0.500 | 0.4040404 | 0.52500997 |\n",
       "| 21 | 21 | 0.525 | 0.9090909 | 0.34035574 |\n",
       "| 22 | 20 | 0.500 | 0.4040404 | 0.52500997 |\n",
       "| 23 | 12 | 0.300 | 3.6363636 | 0.05653028 |\n",
       "| 24 | 21 | 0.525 | 0.9090909 | 0.34035574 |\n",
       "| 25 | 18 | 0.450 | 0.0000000 | 1.00000000 |\n",
       "| 26 | 21 | 0.525 | 0.9090909 | 0.34035574 |\n",
       "| 27 | 19 | 0.475 | 0.1010101 | 0.75062082 |\n",
       "| 28 | 20 | 0.500 | 0.4040404 | 0.52500997 |\n",
       "| 29 | 14 | 0.350 | 1.6161616 | 0.20362783 |\n",
       "| 30 | 19 | 0.475 | 0.1010101 | 0.75062082 |\n",
       "| 31 | 18 | 0.450 | 0.0000000 | 1.00000000 |\n",
       "| 32 | 16 | 0.400 | 0.4040404 | 0.52500997 |\n",
       "| 33 | 15 | 0.375 | 0.9090909 | 0.34035574 |\n",
       "| 34 | 20 | 0.500 | 0.4040404 | 0.52500997 |\n",
       "| 35 | 17 | 0.425 | 0.1010101 | 0.75062082 |\n",
       "| 36 | 19 | 0.475 | 0.1010101 | 0.75062082 |\n",
       "| 37 | 18 | 0.450 | 0.0000000 | 1.00000000 |\n",
       "| 38 | 17 | 0.425 | 0.1010101 | 0.75062082 |\n",
       "| 39 | 19 | 0.475 | 0.1010101 | 0.75062082 |\n",
       "| 40 | 19 | 0.475 | 0.1010101 | 0.75062082 |\n",
       "| 41 | 14 | 0.350 | 1.6161616 | 0.20362783 |\n",
       "| 42 | 18 | 0.450 | 0.0000000 | 1.00000000 |\n",
       "| 43 | 19 | 0.475 | 0.1010101 | 0.75062082 |\n",
       "| 44 | 18 | 0.450 | 0.0000000 | 1.00000000 |\n",
       "| 45 | 20 | 0.500 | 0.4040404 | 0.52500997 |\n",
       "| 46 | 18 | 0.450 | 0.0000000 | 1.00000000 |\n",
       "| 47 | 17 | 0.425 | 0.1010101 | 0.75062082 |\n",
       "| 48 | 21 | 0.525 | 0.9090909 | 0.34035574 |\n",
       "| 49 | 20 | 0.500 | 0.4040404 | 0.52500997 |\n",
       "| 50 | 15 | 0.375 | 0.9090909 | 0.34035574 |\n",
       "\n"
      ],
      "text/plain": [
       "   successes proportion chi       p_value   \n",
       "1  20        0.500      0.4040404 0.52500997\n",
       "2  19        0.475      0.1010101 0.75062082\n",
       "3  18        0.450      0.0000000 1.00000000\n",
       "4  16        0.400      0.4040404 0.52500997\n",
       "5  14        0.350      1.6161616 0.20362783\n",
       "6  14        0.350      1.6161616 0.20362783\n",
       "7  21        0.525      0.9090909 0.34035574\n",
       "8  16        0.400      0.4040404 0.52500997\n",
       "9  16        0.400      0.4040404 0.52500997\n",
       "10 17        0.425      0.1010101 0.75062082\n",
       "11 21        0.525      0.9090909 0.34035574\n",
       "12 20        0.500      0.4040404 0.52500997\n",
       "13 18        0.450      0.0000000 1.00000000\n",
       "14 21        0.525      0.9090909 0.34035574\n",
       "15 14        0.350      1.6161616 0.20362783\n",
       "16 19        0.475      0.1010101 0.75062082\n",
       "17 21        0.525      0.9090909 0.34035574\n",
       "18 17        0.425      0.1010101 0.75062082\n",
       "19 20        0.500      0.4040404 0.52500997\n",
       "20 20        0.500      0.4040404 0.52500997\n",
       "21 21        0.525      0.9090909 0.34035574\n",
       "22 20        0.500      0.4040404 0.52500997\n",
       "23 12        0.300      3.6363636 0.05653028\n",
       "24 21        0.525      0.9090909 0.34035574\n",
       "25 18        0.450      0.0000000 1.00000000\n",
       "26 21        0.525      0.9090909 0.34035574\n",
       "27 19        0.475      0.1010101 0.75062082\n",
       "28 20        0.500      0.4040404 0.52500997\n",
       "29 14        0.350      1.6161616 0.20362783\n",
       "30 19        0.475      0.1010101 0.75062082\n",
       "31 18        0.450      0.0000000 1.00000000\n",
       "32 16        0.400      0.4040404 0.52500997\n",
       "33 15        0.375      0.9090909 0.34035574\n",
       "34 20        0.500      0.4040404 0.52500997\n",
       "35 17        0.425      0.1010101 0.75062082\n",
       "36 19        0.475      0.1010101 0.75062082\n",
       "37 18        0.450      0.0000000 1.00000000\n",
       "38 17        0.425      0.1010101 0.75062082\n",
       "39 19        0.475      0.1010101 0.75062082\n",
       "40 19        0.475      0.1010101 0.75062082\n",
       "41 14        0.350      1.6161616 0.20362783\n",
       "42 18        0.450      0.0000000 1.00000000\n",
       "43 19        0.475      0.1010101 0.75062082\n",
       "44 18        0.450      0.0000000 1.00000000\n",
       "45 20        0.500      0.4040404 0.52500997\n",
       "46 18        0.450      0.0000000 1.00000000\n",
       "47 17        0.425      0.1010101 0.75062082\n",
       "48 21        0.525      0.9090909 0.34035574\n",
       "49 20        0.500      0.4040404 0.52500997\n",
       "50 15        0.375      0.9090909 0.34035574"
      ]
     },
     "metadata": {},
     "output_type": "display_data"
    }
   ],
   "source": [
    "df4 <- data.frame(matrix(ncol = 4, nrow = 0))\n",
    "colnames(df4) <- c('successes', 'proportion', 'chi', 'p_value')\n",
    "\n",
    "for (i in 1:50) {\n",
    "    gsamp <- sample(x = c('M','F'),prob = c(.55,.45), size = 40, replace = TRUE)\n",
    "    success <- sum(gsamp == 'F')\n",
    "    prop <- success/40\n",
    "    res <- prop.test(x = success, n = 40, p = 0.45, correct = FALSE)\n",
    "    df4[i,] <- c(success, prop, res$statistic, res$p.value)\n",
    "    #print(paste('proportion: ', i, \" \", prop))\n",
    "}\n",
    "df4"
   ]
  },
  {
   "cell_type": "code",
   "execution_count": 41,
   "id": "15e25086",
   "metadata": {},
   "outputs": [
    {
     "data": {
      "text/html": [
       "<table class=\"dataframe\">\n",
       "<caption>A data.frame: 2 × 2</caption>\n",
       "<thead>\n",
       "\t<tr><th scope=col>gender</th><th scope=col>avg_score</th></tr>\n",
       "\t<tr><th scope=col>&lt;fct&gt;</th><th scope=col>&lt;dbl&gt;</th></tr>\n",
       "</thead>\n",
       "<tbody>\n",
       "\t<tr><td>F</td><td>78.25000</td></tr>\n",
       "\t<tr><td>M</td><td>82.71429</td></tr>\n",
       "</tbody>\n",
       "</table>\n"
      ],
      "text/latex": [
       "A data.frame: 2 × 2\n",
       "\\begin{tabular}{ll}\n",
       " gender & avg\\_score\\\\\n",
       " <fct> & <dbl>\\\\\n",
       "\\hline\n",
       "\t F & 78.25000\\\\\n",
       "\t M & 82.71429\\\\\n",
       "\\end{tabular}\n"
      ],
      "text/markdown": [
       "\n",
       "A data.frame: 2 × 2\n",
       "\n",
       "| gender &lt;fct&gt; | avg_score &lt;dbl&gt; |\n",
       "|---|---|\n",
       "| F | 78.25000 |\n",
       "| M | 82.71429 |\n",
       "\n"
      ],
      "text/plain": [
       "  gender avg_score\n",
       "1 F      78.25000 \n",
       "2 M      82.71429 "
      ]
     },
     "metadata": {},
     "output_type": "display_data"
    }
   ],
   "source": [
    "if(!suppressWarnings(require(sqldf))) install.packages(\"sqldf\")\n",
    "library(sqldf)\n",
    "query <- \"select gender, avg(score) as avg_score from df1 group by gender\"\n",
    "meanByGender <- sqldf(query)\n",
    "#t2 <- table(meanByGender$gender, meanByGender$avg_score)\n",
    "#t2\n",
    "meanByGender"
   ]
  },
  {
   "cell_type": "code",
   "execution_count": 7,
   "id": "15b130ce",
   "metadata": {},
   "outputs": [
    {
     "data": {
      "image/png": "[encoded data removed]",
      "text/plain": [
       "plot without title"
      ]
     },
     "metadata": {
      "image/png": {
       "height": 420,
       "width": 420
      }
     },
     "output_type": "display_data"
    }
   ],
   "source": [
    "samp2 <- rnorm(n = 40, mean = 70, sd = 8)\n",
    "plot(samp1, xlab='test Scores', ylab='Count', )"
   ]
  },
  {
   "cell_type": "code",
   "execution_count": null,
   "id": "bb1365f5",
   "metadata": {},
   "outputs": [],
   "source": []
  }
 ],
 "metadata": {
  "kernelspec": {
   "display_name": "R [conda env:ordinal]",
   "language": "R",
   "name": "conda-env-ordinal-r"
  },
  "language_info": {
   "codemirror_mode": "r",
   "file_extension": ".r",
   "mimetype": "text/x-r-source",
   "name": "R",
   "pygments_lexer": "r",
   "version": "4.1.3"
  }
 },
 "nbformat": 4,
 "nbformat_minor": 5
}
